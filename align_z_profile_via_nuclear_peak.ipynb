{
 "cells": [
  {
   "cell_type": "markdown",
   "id": "0bf76e91",
   "metadata": {},
   "source": [
    "##### This script can be used to align z profiles of one channel (identifyer: ch1_) against another channel (identifyer: ch2_). It was used in the paper Twamley et al. to align  LDL and WGA z profiles to the peak of the nuclear signal from dual color images."
   ]
  },
  {
   "cell_type": "code",
   "execution_count": null,
   "id": "7bcb51bd",
   "metadata": {},
   "outputs": [],
   "source": [
    "import pandas as pd\n",
    "import numpy as np\n",
    "from os import path\n",
    "from os import makedirs\n",
    "import os\n",
    "import scipy.stats\n",
    "import matplotlib.pyplot as plt\n",
    "from scipy import signal"
   ]
  },
  {
   "cell_type": "markdown",
   "id": "4ae5734f",
   "metadata": {},
   "source": [
    "### enter folder name here:"
   ]
  },
  {
   "cell_type": "code",
   "execution_count": null,
   "id": "547c5ffb",
   "metadata": {},
   "outputs": [],
   "source": [
    "path=\".............\"\n",
    "CSVpath=path+\"Profiles/\"\n",
    "CSVfiles=os.listdir(CSVpath)"
   ]
  },
  {
   "cell_type": "code",
   "execution_count": null,
   "id": "73ef8636",
   "metadata": {},
   "outputs": [],
   "source": [
    "def split(matrix,identifyer,axis):\n",
    "    splitted=matrix.filter(like=identifyer,axis=axis)\n",
    "    return splitted"
   ]
  },
  {
   "cell_type": "markdown",
   "id": "308b6938",
   "metadata": {},
   "source": [
    "### enter identifiers for your conditions here:"
   ]
  },
  {
   "cell_type": "code",
   "execution_count": null,
   "id": "2c924f1b",
   "metadata": {},
   "outputs": [],
   "source": [
    "conditions=[\"Flow\",\"Static\"]"
   ]
  },
  {
   "cell_type": "code",
   "execution_count": null,
   "id": "377e08cc",
   "metadata": {},
   "outputs": [],
   "source": [
    "values=[]\n",
    "CSVs_=[]\n",
    "for f in CSVfiles:\n",
    "    tmp=[]\n",
    "    CSVs_+=[f]\n",
    "    table=pd.read_csv(CSVpath+f)\n",
    "    tmp=table[\"Mean\"].values.tolist()\n",
    "    values+=[tmp]"
   ]
  },
  {
   "cell_type": "code",
   "execution_count": null,
   "id": "28ef00e0",
   "metadata": {},
   "outputs": [],
   "source": [
    "summary=pd.DataFrame(values).T\n",
    "summary.columns=CSVs_\n",
    "summary.to_csv(path+\"Profile_summary_raw.csv\")"
   ]
  },
  {
   "cell_type": "code",
   "execution_count": null,
   "id": "f1cd82bd",
   "metadata": {
    "scrolled": false
   },
   "outputs": [],
   "source": [
    "avDapi=split(summary,\"ch1_\",1) # only Dapi averages\n",
    "avchTwo=summary[[a.replace(\"ch1_\", \"ch2_\") for a in avDapi.columns.tolist()]]\n",
    "\n",
    "indexList=[]\n",
    "corDapi=[]\n",
    "corchTwo=[]\n",
    "for l in range(0,avDapi.shape[1]):\n",
    "    trace=avDapi[avDapi.columns[l]].dropna().values\n",
    "    s_trace=trace\n",
    "    indexList+=[np.argmax(s_trace)]\n",
    "\n",
    "for l in range(0,avDapi.shape[1]): \n",
    "    addMe=[np.NAN]*(300-indexList[l])\n",
    "    newDapi=np.insert(avDapi[avDapi.columns[l]].values,0,addMe).tolist()\n",
    "    newchTwo=np.insert(avchTwo[avchTwo.columns[l]].values,0,addMe).tolist()\n",
    "    corDapi+=[newDapi]\n",
    "    corchTwo+=[newchTwo]\n",
    "corDapi=pd.DataFrame(corDapi).T\n",
    "corDapi.columns=avDapi.columns\n",
    "corchTwo=pd.DataFrame(corchTwo).T\n",
    "corchTwo.columns=avchTwo.columns\n",
    "\n",
    "corDapi.to_csv(path+\"Profile_summary_corrected_Dapi.csv\")\n",
    "corchTwo.to_csv(path+\"Profile_summary_corrected_chTwo.csv\")"
   ]
  },
  {
   "cell_type": "code",
   "execution_count": null,
   "id": "729220ae",
   "metadata": {},
   "outputs": [],
   "source": [
    "allMeans=[]\n",
    "allSEMs=[]\n",
    "allSDs=[]\n",
    "for c in conditions:\n",
    "    allMeans+=[np.nanmean(split(corDapi,c,1),axis=1).tolist()]\n",
    "    allSEMs+=[scipy.stats.sem(split(corDapi,c,1).values,nan_policy='omit').tolist()]\n",
    "    allSDs+=[np.nanstd(split(corDapi,c,1),axis=1).tolist()]\n",
    "allMeansDapi=pd.DataFrame(allMeans).T\n",
    "allSEMsDapi=pd.DataFrame(allSEMs).T\n",
    "allSDsDapi=pd.DataFrame(allSDs).T\n",
    "allMeansDapi.columns=allSEMsDapi.columns=allSDsDapi.columns=conditions\n",
    "\n",
    "\n",
    "allMeans=[]\n",
    "allSEMs=[]\n",
    "allSDs=[]\n",
    "for c in conditions:\n",
    "    allMeans+=[np.nanmean(split(corchTwo,c,1),axis=1).tolist()]\n",
    "    allSEMs+=[scipy.stats.sem(split(corchTwo,c,1).values,nan_policy='omit').tolist()]\n",
    "    allSDs+=[np.nanstd(split(corchTwo,c,1),axis=1).tolist()]\n",
    "allMeanschTwo=pd.DataFrame(allMeans).T\n",
    "allSEMschTwo=pd.DataFrame(allSEMs).T\n",
    "allSDschTwo=pd.DataFrame(allSDs).T\n",
    "allMeanschTwo.columns=allSEMschTwo.columns=allSDschTwo.columns=conditions"
   ]
  },
  {
   "cell_type": "code",
   "execution_count": null,
   "id": "c01de39b",
   "metadata": {},
   "outputs": [],
   "source": [
    "allMeanschTwo.to_excel(path+\"Profile_chTwo_Means.xls\")\n",
    "allSDschTwo.to_excel(path+\"Profile_chTwo_SDs.xls\")\n",
    "allMeansDapi.to_excel(path+\"Profile_Dapi_Means.xls\")\n",
    "allSDsDapi.to_excel(path+\"Profile_Dapi_SDs.xls\")"
   ]
  }
 ],
 "metadata": {
  "kernelspec": {
   "display_name": "Python 3",
   "language": "python",
   "name": "python3"
  },
  "language_info": {
   "codemirror_mode": {
    "name": "ipython",
    "version": 3
   },
   "file_extension": ".py",
   "mimetype": "text/x-python",
   "name": "python",
   "nbconvert_exporter": "python",
   "pygments_lexer": "ipython3",
   "version": "3.8.8"
  }
 },
 "nbformat": 4,
 "nbformat_minor": 5
}
